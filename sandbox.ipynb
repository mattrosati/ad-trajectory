{
 "cells": [
  {
   "cell_type": "code",
   "execution_count": null,
   "id": "3ba0c384-8dae-41a8-a814-b9fb10febecb",
   "metadata": {},
   "outputs": [],
   "source": [
    "import sys\n",
    "import os\n",
    "\n",
    "# Determine the absolute path to the src directory\n",
    "src_path = os.path.abspath(os.path.join(os.getcwd(), 'src'))\n",
    "\n",
    "# Add src_path to sys.path if it's not already present\n",
    "if src_path not in sys.path:\n",
    "    sys.path.insert(0, src_path)"
   ]
  },
  {
   "cell_type": "code",
   "execution_count": null,
   "id": "a24919d5-dc9a-4755-bc51-062e647e13a3",
   "metadata": {},
   "outputs": [],
   "source": [
    "import pandas as pd\n",
    "from tabpfn_extensions import TabPFNRegressor, TabPFNClassifier\n",
    "from tabpfn_extensions.embedding import TabPFNEmbedding\n",
    "\n",
    "import argparse\n",
    "import os\n",
    "import numpy as np\n",
    "import random\n",
    "from tqdm import tqdm\n",
    "\n",
    "from src.data_utils import load_data_for_tabPFN\n",
    "from src.data_constants import targets\n",
    "\n",
    "# Set the random seed for reproducibility\n",
    "s = 42\n",
    "np.random.seed(s)\n",
    "random.seed(s)\n",
    "\n",
    "# load the dataset\n",
    "f = 'data/processed/vitals_yeo-johnson_test_data.csv'\n",
    "if f.endswith(\".csv\"):\n",
    "    data, ids = load_data_for_tabPFN(f)\n",
    "    print(f\"Loaded data from {f}\")\n",
    "\n",
    "# fit the model and extract the embeddings\n",
    "y = data[targets]\n",
    "x = data.drop(columns=targets)\n",
    "vecs = []\n",
    "print(x.columns)\n",
    "t = targets[0]\n"
   ]
  },
  {
   "cell_type": "code",
   "execution_count": null,
   "id": "70673465-bf7a-4b9e-a092-0c700dd8e74b",
   "metadata": {},
   "outputs": [],
   "source": [
    "from tabpfn.config import ModelInterfaceConfig"
   ]
  },
  {
   "cell_type": "code",
   "execution_count": null,
   "id": "1c6fb913-9e1a-474d-8cee-3b30fbeb581f",
   "metadata": {},
   "outputs": [],
   "source": [
    "config = ModelInterfaceConfig(\n",
    "    FEATURE_SHIFT_METHOD = None,\n",
    "    CLASS_SHIFT_METHOD = None\n",
    ")"
   ]
  },
  {
   "cell_type": "code",
   "execution_count": null,
   "id": "f4ab63c2-f998-4f77-93e7-82c09cbffcb4",
   "metadata": {},
   "outputs": [],
   "source": [
    "reg = TabPFNRegressor(random_state=s,  \n",
    "                      categorical_features_indices=[0,1,3,5,6,7,13,25,26,27],\n",
    "                      inference_config=config,\n",
    "                      n_estimators = 1\n",
    "                     )\n",
    "reg.feature_names_in_= x.columns"
   ]
  },
  {
   "cell_type": "code",
   "execution_count": null,
   "id": "f02268ca-c0a5-4e96-b82b-17b3f675552d",
   "metadata": {},
   "outputs": [],
   "source": [
    "from tabpfn.utils import validate_X_predict, _fix_dtypes"
   ]
  },
  {
   "cell_type": "code",
   "execution_count": null,
   "id": "e9395b7d-883e-48ca-bd15-106ffb4f284b",
   "metadata": {
    "scrolled": true
   },
   "outputs": [],
   "source": [
    "x.dtypes"
   ]
  },
  {
   "cell_type": "code",
   "execution_count": null,
   "id": "f3beb211-f0f3-46e6-a900-b4521c3a28f9",
   "metadata": {},
   "outputs": [],
   "source": [
    "reg.fit(x, y[t])"
   ]
  },
  {
   "cell_type": "code",
   "execution_count": null,
   "id": "a73c963a-ee7f-4443-9364-9119bc24c6a9",
   "metadata": {},
   "outputs": [],
   "source": [
    "x = validate_X_predict(x, reg)"
   ]
  },
  {
   "cell_type": "code",
   "execution_count": null,
   "id": "fc1db2ac-120e-4857-9165-7ba9703bb3b9",
   "metadata": {},
   "outputs": [],
   "source": [
    "x = _fix_dtypes(x, cat_indices=reg.categorical_features_indices)"
   ]
  },
  {
   "cell_type": "code",
   "execution_count": null,
   "id": "5d29306f-8e6c-4a6a-afd5-78c3026cc7cb",
   "metadata": {},
   "outputs": [],
   "source": [
    "from sklearn.base import check_is_fitted, is_classifier\n",
    "print(check_is_fitted(reg))"
   ]
  },
  {
   "cell_type": "code",
   "execution_count": null,
   "id": "c932039b-c3ac-4b67-9707-f1e077aba211",
   "metadata": {},
   "outputs": [],
   "source": [
    "tran = reg.executor_.preprocessor.transform(x)"
   ]
  },
  {
   "cell_type": "code",
   "execution_count": null,
   "id": "7ac0a54d-9511-41e5-bc06-c78936737986",
   "metadata": {
    "scrolled": true
   },
   "outputs": [],
   "source": [
    "reg.executor_.preprocessors"
   ]
  },
  {
   "cell_type": "code",
   "execution_count": null,
   "id": "c84f20e2-1d93-4da5-b41f-2202f913846c",
   "metadata": {},
   "outputs": [],
   "source": [
    "reg.executor_.ensemble_configs"
   ]
  },
  {
   "cell_type": "code",
   "execution_count": null,
   "id": "f0045a06-304b-4d9c-99bf-53843c98d01a",
   "metadata": {},
   "outputs": [],
   "source": [
    "def iter_outputs(\n",
    "    self,\n",
    "    X: np.ndarray,\n",
    "    *,\n",
    "    device: torch.device,\n",
    "    autocast: bool,\n",
    "    only_return_standard_out: bool = True,\n",
    ") -> Iterator[tuple[torch.Tensor | dict, EnsembleConfig]]:\n",
    "    for preprocessor, X_train, y_train, config, cat_ix in zip(\n",
    "        self.preprocessors,\n",
    "        self.X_trains,\n",
    "        self.y_trains,\n",
    "        self.ensemble_configs,\n",
    "        self.cat_ixs,\n",
    "    ):\n",
    "        X_train = torch.as_tensor(X_train, dtype=torch.float32, device=device)  # noqa: PLW2901\n",
    "\n",
    "        X_test = preprocessor.transform(X).X\n",
    "        X_test = torch.as_tensor(X_test, dtype=torch.float32, device=device)\n",
    "\n",
    "        X_full = torch.cat([X_train, X_test], dim=0).unsqueeze(1)\n",
    "        y_train = torch.as_tensor(y_train, dtype=torch.float32, device=device)  # noqa: PLW2901"
   ]
  },
  {
   "cell_type": "code",
   "execution_count": null,
   "id": "aa9b7568-3ca4-4124-becc-2febd28edda3",
   "metadata": {},
   "outputs": [],
   "source": [
    "reg.executor_.ensemble_configs"
   ]
  },
  {
   "cell_type": "code",
   "execution_count": null,
   "id": "0cd86020-611e-47c1-96a7-47263b366a38",
   "metadata": {},
   "outputs": [],
   "source": [
    "for i in reg.executor_.iter_outputs(x ,device = 'cpu', autocast = False):\n",
    "    print(i)"
   ]
  },
  {
   "cell_type": "code",
   "execution_count": null,
   "id": "2091d071-2eb1-4117-9bc2-0dca18bf3d15",
   "metadata": {},
   "outputs": [],
   "source": [
    "for name, transformer, columns in reg.preprocessor_.transformers_:\n",
    "    print(f\"Transformer: {name}\")\n",
    "    print(f\"Applies to columns: {columns}\")\n",
    "    print(f\"Transformer steps: {transformer}\")\n",
    "    print(\"-\" * 40)"
   ]
  },
  {
   "cell_type": "code",
   "execution_count": null,
   "id": "34ee9f24-6320-4b48-8405-a47f8747330f",
   "metadata": {},
   "outputs": [],
   "source": [
    "shuffle_idx = [idx for i in [col for _, _, col in reg.preprocessor_.transformers_] for idx in i]"
   ]
  },
  {
   "cell_type": "code",
   "execution_count": null,
   "id": "53de25a9-9ba3-43a4-ac99-fa24fdc7f241",
   "metadata": {},
   "outputs": [],
   "source": [
    "sort_idx = np.argsort(shuffle_idx)"
   ]
  },
  {
   "cell_type": "code",
   "execution_count": null,
   "id": "ac7f7b09-6ee1-4621-b934-05e83d7a81b1",
   "metadata": {},
   "outputs": [],
   "source": [
    "x_in = tran[:, sort_idx]"
   ]
  },
  {
   "cell_type": "code",
   "execution_count": null,
   "id": "b435c9b9-a9f4-42c3-a56c-c68ae7f9d1a9",
   "metadata": {},
   "outputs": [],
   "source": [
    "pd.DataFrame(x_in)"
   ]
  },
  {
   "cell_type": "code",
   "execution_count": null,
   "id": "dfd31d99-b932-48a9-91e2-bf8075b706a8",
   "metadata": {},
   "outputs": [],
   "source": [
    "data"
   ]
  },
  {
   "cell_type": "code",
   "execution_count": null,
   "id": "75b64d42-4cf4-4e16-b9f1-60640342d356",
   "metadata": {},
   "outputs": [],
   "source": [
    "x"
   ]
  },
  {
   "cell_type": "code",
   "execution_count": null,
   "id": "b2a4ab1b-3432-47db-9708-7e1aeae90df8",
   "metadata": {},
   "outputs": [],
   "source": [
    "pd.DataFrame(tran)"
   ]
  }
 ],
 "metadata": {
  "kernelspec": {
   "display_name": "Python 3 (ipykernel)",
   "language": "python",
   "name": "python3"
  },
  "language_info": {
   "codemirror_mode": {
    "name": "ipython",
    "version": 3
   },
   "file_extension": ".py",
   "mimetype": "text/x-python",
   "name": "python",
   "nbconvert_exporter": "python",
   "pygments_lexer": "ipython3",
   "version": "3.10.9"
  }
 },
 "nbformat": 4,
 "nbformat_minor": 5
}
