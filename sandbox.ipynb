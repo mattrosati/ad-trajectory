{
 "cells": [
  {
   "cell_type": "code",
   "execution_count": null,
   "id": "3ba0c384-8dae-41a8-a814-b9fb10febecb",
   "metadata": {},
   "outputs": [],
   "source": [
    "import sys\n",
    "import os\n",
    "\n",
    "# Determine the absolute path to the src directory\n",
    "src_path = os.path.abspath(os.path.join(os.getcwd(), 'src'))\n",
    "\n",
    "# Add src_path to sys.path if it's not already present\n",
    "if src_path not in sys.path:\n",
    "    sys.path.insert(0, src_path)"
   ]
  },
  {
   "cell_type": "code",
   "execution_count": null,
   "id": "9d12553b-9dbd-4d49-840b-4a4006293c64",
   "metadata": {},
   "outputs": [],
   "source": [
    "import typing\n",
    "import torch\n",
    "from typing import Iterator\n",
    "import re\n",
    "import numpy as np\n",
    "import pandas as pd\n",
    "\n",
    "import os\n",
    "import random\n",
    "\n",
    "from tabpfn_extensions import TabPFNRegressor, TabPFNClassifier\n",
    "from tabpfn_extensions.embedding import TabPFNEmbedding\n",
    "from tabpfn.constants import (\n",
    "    NA_PLACEHOLDER,\n",
    ")\n",
    "\n",
    "# import to figure out what is going on with the data\n",
    "from tabpfn.utils import validate_X_predict, _fix_dtypes, _process_text_na_dataframe\n",
    "\n",
    "from tabpfn.config import ModelInterfaceConfig\n",
    "from tabpfn.preprocessing import EnsembleConfig\n",
    "\n",
    "from src.data_constants import *\n",
    "from src.data_utils import load_data_for_tabPFN\n"
   ]
  },
  {
   "cell_type": "code",
   "execution_count": null,
   "id": "a24919d5-dc9a-4755-bc51-062e647e13a3",
   "metadata": {},
   "outputs": [],
   "source": [
    "# Set the random seed for reproducibility\n",
    "s = 42\n",
    "np.random.seed(s)\n",
    "random.seed(s)\n",
    "\n",
    "# load the dataset\n",
    "f = 'data/processed/vitals_train_data.csv'\n",
    "if f.endswith(\".csv\"):\n",
    "    data, ids = load_data_for_tabPFN(f)\n",
    "    print(f\"Loaded data from {f}\")"
   ]
  },
  {
   "cell_type": "code",
   "execution_count": null,
   "id": "1c6fb913-9e1a-474d-8cee-3b30fbeb581f",
   "metadata": {},
   "outputs": [],
   "source": [
    "config = ModelInterfaceConfig(\n",
    "    FEATURE_SHIFT_METHOD = None,\n",
    "    CLASS_SHIFT_METHOD = None,\n",
    "    FINGERPRINT_FEATURE = False,\n",
    ")"
   ]
  },
  {
   "cell_type": "code",
   "execution_count": null,
   "id": "890ef85e-67cd-4d98-a5d4-ea399e92efef",
   "metadata": {},
   "outputs": [],
   "source": [
    "categorical_features_ = [data.columns.get_loc(col) for col in categorical_features if col in data.columns]"
   ]
  },
  {
   "cell_type": "code",
   "execution_count": null,
   "id": "c537b38e-d6f3-4faa-82fa-8054a3f5a947",
   "metadata": {},
   "outputs": [],
   "source": [
    "categorical_features_"
   ]
  },
  {
   "cell_type": "code",
   "execution_count": null,
   "id": "f4ab63c2-f998-4f77-93e7-82c09cbffcb4",
   "metadata": {},
   "outputs": [],
   "source": [
    "reg = TabPFNRegressor(random_state=s,  \n",
    "                      categorical_features_indices=categorical_features_,\n",
    "                      inference_config=config,\n",
    "                      n_estimators = 1\n",
    "                     )"
   ]
  },
  {
   "cell_type": "code",
   "execution_count": null,
   "id": "f3beb211-f0f3-46e6-a900-b4521c3a28f9",
   "metadata": {
    "scrolled": true
   },
   "outputs": [],
   "source": [
    "reg.fit(data, np.arange(data.shape[0]))"
   ]
  },
  {
   "cell_type": "code",
   "execution_count": null,
   "id": "53e23734-8ab5-4a78-b482-933212d054ce",
   "metadata": {},
   "outputs": [],
   "source": [
    "x = data"
   ]
  },
  {
   "cell_type": "code",
   "execution_count": null,
   "id": "f0054b37-6b94-45df-ad85-7aaf3567dc54",
   "metadata": {},
   "outputs": [],
   "source": [
    "x.dtypes"
   ]
  },
  {
   "cell_type": "code",
   "execution_count": null,
   "id": "a73c963a-ee7f-4443-9364-9119bc24c6a9",
   "metadata": {},
   "outputs": [],
   "source": [
    "X = validate_X_predict(x, reg)"
   ]
  },
  {
   "cell_type": "code",
   "execution_count": null,
   "id": "fc1db2ac-120e-4857-9165-7ba9703bb3b9",
   "metadata": {},
   "outputs": [],
   "source": [
    "X = _fix_dtypes(X, cat_indices=reg.categorical_features_indices)"
   ]
  },
  {
   "cell_type": "code",
   "execution_count": null,
   "id": "9c736ea2-bfee-4566-92d4-b7733371641b",
   "metadata": {},
   "outputs": [],
   "source": [
    "X = _process_text_na_dataframe(X, ord_encoder=reg.preprocessor_)"
   ]
  },
  {
   "cell_type": "code",
   "execution_count": null,
   "id": "c4051d2c-a5b7-4038-86e8-ae75e40e0494",
   "metadata": {},
   "outputs": [],
   "source": [
    "X.shape"
   ]
  },
  {
   "cell_type": "code",
   "execution_count": null,
   "id": "d455541f-c39b-4c26-9991-faeb2b0fea33",
   "metadata": {},
   "outputs": [],
   "source": [
    "print(x.columns[x.isna().all(axis=0)].values[0])"
   ]
  },
  {
   "cell_type": "code",
   "execution_count": null,
   "id": "c84f20e2-1d93-4da5-b41f-2202f913846c",
   "metadata": {},
   "outputs": [],
   "source": [
    "reg.executor_.ensemble_configs"
   ]
  },
  {
   "cell_type": "code",
   "execution_count": null,
   "id": "6ef65a9e-14ca-47d2-a2c6-b8f7367ef389",
   "metadata": {},
   "outputs": [],
   "source": [
    "pipeline = reg.executor_.preprocessors[0]"
   ]
  },
  {
   "cell_type": "code",
   "execution_count": null,
   "id": "e1fb6373-227e-47db-b1e0-6e9604f2cb4f",
   "metadata": {},
   "outputs": [],
   "source": [
    "pipeline"
   ]
  },
  {
   "cell_type": "code",
   "execution_count": null,
   "id": "69a07882-45cf-4fe1-ab96-0fc84a3a8606",
   "metadata": {},
   "outputs": [],
   "source": [
    "pipeline[1].get_column_types(X)"
   ]
  },
  {
   "cell_type": "code",
   "execution_count": null,
   "id": "c2dcb07b-18aa-424b-af07-2a1e67818603",
   "metadata": {},
   "outputs": [],
   "source": [
    "pipeline[1].get_adaptive_preprocessors()[\"adaptive\"]"
   ]
  },
  {
   "cell_type": "code",
   "execution_count": null,
   "id": "b7d5dd86-2a0c-40ee-8f4f-426c0b365788",
   "metadata": {},
   "outputs": [],
   "source": [
    "pipeline[1].get_all_preprocessors(100)[\"safepower\"]"
   ]
  },
  {
   "cell_type": "code",
   "execution_count": null,
   "id": "70d351a6-bd0c-4e94-a2af-722a86bdbf52",
   "metadata": {},
   "outputs": [],
   "source": [
    "pipeline[1].subsample_features"
   ]
  },
  {
   "cell_type": "code",
   "execution_count": null,
   "id": "b54474f1-0198-4e75-a023-a5cef46f2560",
   "metadata": {},
   "outputs": [],
   "source": [
    "pipeline[1].apply_to_categorical"
   ]
  },
  {
   "cell_type": "code",
   "execution_count": null,
   "id": "5464217a-5da3-4206-a8d0-f47ba1ae65fb",
   "metadata": {},
   "outputs": [],
   "source": []
  },
  {
   "cell_type": "code",
   "execution_count": null,
   "id": "0401ea9f-5521-4190-a462-c5c9bdd0a46a",
   "metadata": {},
   "outputs": [],
   "source": [
    "pipeline[2].categorical_transformer_"
   ]
  },
  {
   "cell_type": "code",
   "execution_count": null,
   "id": "840a76e8-bfc9-484d-9c35-9efa02a8ee28",
   "metadata": {},
   "outputs": [],
   "source": [
    "pd.DataFrame(X)"
   ]
  },
  {
   "cell_type": "code",
   "execution_count": null,
   "id": "dad0301e-6de2-4c6d-ba49-d8b885c6b2f5",
   "metadata": {},
   "outputs": [],
   "source": []
  },
  {
   "cell_type": "code",
   "execution_count": null,
   "id": "05e8b858-3dd4-4cfd-9fb1-3df162775775",
   "metadata": {},
   "outputs": [],
   "source": []
  },
  {
   "cell_type": "code",
   "execution_count": null,
   "id": "d12ebf3c-e2a9-4e90-bbb2-43a7ee095956",
   "metadata": {},
   "outputs": [],
   "source": [
    "inspecting = X.copy()"
   ]
  },
  {
   "cell_type": "code",
   "execution_count": null,
   "id": "32b2d047-afe2-4732-ae78-c5b242579f22",
   "metadata": {
    "scrolled": true
   },
   "outputs": [],
   "source": [
    "pd.DataFrame(pipeline[0].transform(inspecting).X)"
   ]
  },
  {
   "cell_type": "code",
   "execution_count": null,
   "id": "322e8a6f-d690-4d49-8899-d12f7f8acc8e",
   "metadata": {},
   "outputs": [],
   "source": [
    "pd.DataFrame(pipeline[1].transform(inspecting).X)"
   ]
  },
  {
   "cell_type": "code",
   "execution_count": null,
   "id": "ef832fd9-93b6-4936-beb9-6e5343f04787",
   "metadata": {},
   "outputs": [],
   "source": [
    "pd.DataFrame(pipeline[2].transform(inspecting).X)"
   ]
  },
  {
   "cell_type": "code",
   "execution_count": null,
   "id": "7ac0a54d-9511-41e5-bc06-c78936737986",
   "metadata": {
    "scrolled": true
   },
   "outputs": [],
   "source": [
    "pd.DataFrame(reg.executor_.preprocessors[0].transform(X).X)"
   ]
  },
  {
   "cell_type": "code",
   "execution_count": null,
   "id": "5d9526c9-fe18-494c-8f20-a24237404be4",
   "metadata": {},
   "outputs": [],
   "source": []
  },
  {
   "cell_type": "code",
   "execution_count": null,
   "id": "13a3ddba-17fc-4aa2-8d0f-9716f96712a0",
   "metadata": {},
   "outputs": [],
   "source": [
    "print(dir(pipeline[3]))"
   ]
  },
  {
   "cell_type": "code",
   "execution_count": null,
   "id": "29370d30-1236-415e-b51f-daa945b6b01e",
   "metadata": {},
   "outputs": [],
   "source": [
    "print(pipeline[3].shuffle_method)"
   ]
  },
  {
   "cell_type": "code",
   "execution_count": null,
   "id": "34ee9f24-6320-4b48-8405-a47f8747330f",
   "metadata": {},
   "outputs": [],
   "source": [
    "shuffle_idx = [idx for i in [col for _, _, col in reg.preprocessor_.transformers_] for idx in i]"
   ]
  },
  {
   "cell_type": "code",
   "execution_count": null,
   "id": "53de25a9-9ba3-43a4-ac99-fa24fdc7f241",
   "metadata": {},
   "outputs": [],
   "source": [
    "sort_idx = np.argsort(shuffle_idx)"
   ]
  },
  {
   "cell_type": "code",
   "execution_count": null,
   "id": "ac7f7b09-6ee1-4621-b934-05e83d7a81b1",
   "metadata": {},
   "outputs": [],
   "source": [
    "x_in = tran[:, sort_idx]"
   ]
  },
  {
   "cell_type": "code",
   "execution_count": null,
   "id": "b435c9b9-a9f4-42c3-a56c-c68ae7f9d1a9",
   "metadata": {},
   "outputs": [],
   "source": [
    "pd.DataFrame(x_in)"
   ]
  },
  {
   "cell_type": "code",
   "execution_count": null,
   "id": "dfd31d99-b932-48a9-91e2-bf8075b706a8",
   "metadata": {},
   "outputs": [],
   "source": [
    "data"
   ]
  },
  {
   "cell_type": "code",
   "execution_count": null,
   "id": "75b64d42-4cf4-4e16-b9f1-60640342d356",
   "metadata": {},
   "outputs": [],
   "source": [
    "x"
   ]
  },
  {
   "cell_type": "code",
   "execution_count": null,
   "id": "b2a4ab1b-3432-47db-9708-7e1aeae90df8",
   "metadata": {},
   "outputs": [],
   "source": [
    "pd.DataFrame(tran)"
   ]
  }
 ],
 "metadata": {
  "kernelspec": {
   "display_name": "Python 3 (ipykernel)",
   "language": "python",
   "name": "python3"
  },
  "language_info": {
   "codemirror_mode": {
    "name": "ipython",
    "version": 3
   },
   "file_extension": ".py",
   "mimetype": "text/x-python",
   "name": "python",
   "nbconvert_exporter": "python",
   "pygments_lexer": "ipython3",
   "version": "3.10.9"
  }
 },
 "nbformat": 4,
 "nbformat_minor": 5
}
