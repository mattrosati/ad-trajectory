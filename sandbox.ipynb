{
 "cells": [
  {
   "cell_type": "code",
   "execution_count": null,
   "id": "a24919d5-dc9a-4755-bc51-062e647e13a3",
   "metadata": {},
   "outputs": [],
   "source": [
    "from tabpfn_extensions import TabPFNRegressor\n",
    "from tabpfn_extensions.embedding import TabPFNEmbedding"
   ]
  },
  {
   "cell_type": "code",
   "execution_count": null,
   "id": "3ba0c384-8dae-41a8-a814-b9fb10febecb",
   "metadata": {},
   "outputs": [],
   "source": [
    "import sys\n",
    "import os\n",
    "\n",
    "# Determine the absolute path to the src directory\n",
    "src_path = os.path.abspath(os.path.join(os.getcwd(), 'src'))\n",
    "\n",
    "# Add src_path to sys.path if it's not already present\n",
    "if src_path not in sys.path:\n",
    "    sys.path.insert(0, src_path)"
   ]
  },
  {
   "cell_type": "code",
   "execution_count": null,
   "id": "7e405a99-a479-4f6d-9510-dc6ee14ad979",
   "metadata": {},
   "outputs": [],
   "source": [
    "import pandas as pd"
   ]
  },
  {
   "cell_type": "code",
   "execution_count": null,
   "id": "2ae21f25-ef24-48d2-ab0e-1746891e3ff2",
   "metadata": {},
   "outputs": [],
   "source": [
    "from src.data_constants import *"
   ]
  },
  {
   "cell_type": "code",
   "execution_count": null,
   "id": "57189293-800f-486a-b9c9-52f7deedf9cb",
   "metadata": {},
   "outputs": [],
   "source": [
    "dtypes"
   ]
  },
  {
   "cell_type": "code",
   "execution_count": null,
   "id": "d28c88a0-489c-43e3-818c-99b854a23b50",
   "metadata": {},
   "outputs": [],
   "source": [
    "train_path = \"data/processed/train_data.csv\"\n",
    "val_path = \"data/processed/val_data.csv\""
   ]
  },
  {
   "cell_type": "code",
   "execution_count": null,
   "id": "8e2b4280-95bf-4ee8-b231-153ea141cc1d",
   "metadata": {},
   "outputs": [],
   "source": [
    "train_data = pd.read_csv(train_path, dtype=dtypes, parse_dates=[\"EXAMDATE\", \"EXAMDATE_bl\"]).iloc[:2000,:]\n",
    "val_data = pd.read_csv(val_path, dtype=dtypes, parse_dates=[\"EXAMDATE\", \"EXAMDATE_bl\"])"
   ]
  },
  {
   "cell_type": "code",
   "execution_count": null,
   "id": "df3364b0-4c2a-4205-8c0f-f327e90d6ae1",
   "metadata": {},
   "outputs": [],
   "source": [
    "for col in train_data.select_dtypes(include='datetime'):\n",
    "    train_data[col] = train_data[col].astype(str)\n",
    "for col in val_data.select_dtypes(include='datetime'):\n",
    "    val_data[col] = val_data[col].astype(str)"
   ]
  },
  {
   "cell_type": "code",
   "execution_count": null,
   "id": "f1c8bd66-1f0c-4395-9174-90d522a66b89",
   "metadata": {},
   "outputs": [],
   "source": [
    "train_data"
   ]
  },
  {
   "cell_type": "code",
   "execution_count": null,
   "id": "19bd5fca-819b-4a4d-8548-2c84dbb6abe0",
   "metadata": {},
   "outputs": [],
   "source": [
    "rgs = TabPFNRegressor(n_estimators=1, random_state=42)\n",
    "embedding_extractor = TabPFNEmbedding(tabpfn_reg=rgs, n_fold=0)"
   ]
  },
  {
   "cell_type": "code",
   "execution_count": null,
   "id": "456ea479-a5e8-4837-aa5a-d79e1da0bc2f",
   "metadata": {},
   "outputs": [],
   "source": [
    "train_data[\"MOCA\"] = train_data[\"MOCA\"].fillna(value=0.0)"
   ]
  },
  {
   "cell_type": "code",
   "execution_count": null,
   "id": "71285408-1534-4bff-b3d9-55ffbb53a804",
   "metadata": {},
   "outputs": [],
   "source": [
    "train_embeddings = embedding_extractor.get_embeddings(train_data, train_data[\"MOCA\"], val_data, data_source=\"train\")"
   ]
  },
  {
   "cell_type": "code",
   "execution_count": null,
   "id": "e0d39913-624e-43a7-9ebe-6a9c2568f6da",
   "metadata": {},
   "outputs": [],
   "source": [
    "vec = embedding_extractor.model.get_embeddings(train_data, data_source=\"train\")"
   ]
  },
  {
   "cell_type": "code",
   "execution_count": null,
   "id": "fd7ad010-3d3d-4cb9-b823-7a0bdc048043",
   "metadata": {},
   "outputs": [],
   "source": [
    "vec.shape"
   ]
  },
  {
   "cell_type": "code",
   "execution_count": null,
   "id": "de71f260-1237-4bea-81a6-8ce3bf0cf2df",
   "metadata": {},
   "outputs": [],
   "source": []
  }
 ],
 "metadata": {
  "kernelspec": {
   "display_name": "Python 3 (ipykernel)",
   "language": "python",
   "name": "python3"
  },
  "language_info": {
   "codemirror_mode": {
    "name": "ipython",
    "version": 3
   },
   "file_extension": ".py",
   "mimetype": "text/x-python",
   "name": "python",
   "nbconvert_exporter": "python",
   "pygments_lexer": "ipython3",
   "version": "3.10.9"
  }
 },
 "nbformat": 4,
 "nbformat_minor": 5
}
